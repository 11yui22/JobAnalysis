{
 "cells": [
  {
   "cell_type": "code",
   "execution_count": 227,
   "id": "f1c45d84",
   "metadata": {},
   "outputs": [],
   "source": [
    "import numpy as np\n",
    "import pandas as pd\n",
    "import matplotlib.pyplot as plt\n",
    "\n",
    "\n",
    "plt.rcParams['font.sans-serif'] = 'SimHei'\n",
    "plt.rcParams['axes.unicode_minus'] = False\n",
    "\n",
    "%config InlineBackend.figure_format = 'svg'"
   ]
  },
  {
   "cell_type": "code",
   "execution_count": 271,
   "id": "01fa8f41",
   "metadata": {},
   "outputs": [
    {
     "data": {
      "text/html": [
       "<div>\n",
       "<style scoped>\n",
       "    .dataframe tbody tr th:only-of-type {\n",
       "        vertical-align: middle;\n",
       "    }\n",
       "\n",
       "    .dataframe tbody tr th {\n",
       "        vertical-align: top;\n",
       "    }\n",
       "\n",
       "    .dataframe thead th {\n",
       "        text-align: right;\n",
       "    }\n",
       "</style>\n",
       "<table border=\"1\" class=\"dataframe\">\n",
       "  <thead>\n",
       "    <tr style=\"text-align: right;\">\n",
       "      <th></th>\n",
       "      <th>job_name</th>\n",
       "      <th>company_name</th>\n",
       "      <th>companytype_text</th>\n",
       "      <th>providesalary_text</th>\n",
       "      <th>workarea_text</th>\n",
       "      <th>jobwelf</th>\n",
       "      <th>updatedate</th>\n",
       "      <th>attribute_text</th>\n",
       "    </tr>\n",
       "  </thead>\n",
       "  <tbody>\n",
       "    <tr>\n",
       "      <th>0</th>\n",
       "      <td>战略专家</td>\n",
       "      <td>美团</td>\n",
       "      <td>上市公司</td>\n",
       "      <td>NaN</td>\n",
       "      <td>北京-朝阳区</td>\n",
       "      <td>NaN</td>\n",
       "      <td>10-14</td>\n",
       "      <td>['北京-朝阳区', '5-7年经验', '招1人']</td>\n",
       "    </tr>\n",
       "    <tr>\n",
       "      <th>1</th>\n",
       "      <td>45352-研发项目管理组长</td>\n",
       "      <td>深圳市腾讯计算机系统有限公司</td>\n",
       "      <td>民营公司</td>\n",
       "      <td>NaN</td>\n",
       "      <td>深圳</td>\n",
       "      <td>NaN</td>\n",
       "      <td>10-14</td>\n",
       "      <td>['深圳', '3-4年经验', '本科', '招1人']</td>\n",
       "    </tr>\n",
       "    <tr>\n",
       "      <th>2</th>\n",
       "      <td>策略专员-账号</td>\n",
       "      <td>腾讯科技（北京）有限公司</td>\n",
       "      <td>民营公司</td>\n",
       "      <td>1-2万/月</td>\n",
       "      <td>北京-海淀区</td>\n",
       "      <td>六险一金 餐饮补贴 交通补贴 专业培训 年终奖金 班次津贴</td>\n",
       "      <td>10-14</td>\n",
       "      <td>['北京-海淀区', '1年经验', '本科', '招8人']</td>\n",
       "    </tr>\n",
       "    <tr>\n",
       "      <th>3</th>\n",
       "      <td>销售助理</td>\n",
       "      <td>新浪上海</td>\n",
       "      <td>合资</td>\n",
       "      <td>6-8千/月</td>\n",
       "      <td>上海-静安区</td>\n",
       "      <td>五险一金 补充公积金 节日福利 定期体检</td>\n",
       "      <td>10-14</td>\n",
       "      <td>['上海-静安区', '无需经验', '本科', '招若干人']</td>\n",
       "    </tr>\n",
       "    <tr>\n",
       "      <th>4</th>\n",
       "      <td>城市经理</td>\n",
       "      <td>美团</td>\n",
       "      <td>上市公司</td>\n",
       "      <td>3-4.5万/月</td>\n",
       "      <td>天津</td>\n",
       "      <td>NaN</td>\n",
       "      <td>10-14</td>\n",
       "      <td>['天津', '5-7年经验', '大专', '招1人']</td>\n",
       "    </tr>\n",
       "  </tbody>\n",
       "</table>\n",
       "</div>"
      ],
      "text/plain": [
       "         job_name    company_name companytype_text providesalary_text  \\\n",
       "0            战略专家              美团             上市公司                NaN   \n",
       "1  45352-研发项目管理组长  深圳市腾讯计算机系统有限公司             民营公司                NaN   \n",
       "2         策略专员-账号    腾讯科技（北京）有限公司             民营公司             1-2万/月   \n",
       "3            销售助理            新浪上海               合资             6-8千/月   \n",
       "4            城市经理              美团             上市公司           3-4.5万/月   \n",
       "\n",
       "  workarea_text                        jobwelf updatedate  \\\n",
       "0        北京-朝阳区                            NaN      10-14   \n",
       "1            深圳                            NaN      10-14   \n",
       "2        北京-海淀区  六险一金 餐饮补贴 交通补贴 专业培训 年终奖金 班次津贴      10-14   \n",
       "3        上海-静安区           五险一金 补充公积金 节日福利 定期体检      10-14   \n",
       "4            天津                            NaN      10-14   \n",
       "\n",
       "                     attribute_text  \n",
       "0       ['北京-朝阳区', '5-7年经验', '招1人']  \n",
       "1     ['深圳', '3-4年经验', '本科', '招1人']  \n",
       "2   ['北京-海淀区', '1年经验', '本科', '招8人']  \n",
       "3  ['上海-静安区', '无需经验', '本科', '招若干人']  \n",
       "4     ['天津', '5-7年经验', '大专', '招1人']  "
      ]
     },
     "execution_count": 271,
     "metadata": {},
     "output_type": "execute_result"
    }
   ],
   "source": [
    "job = pd.read_csv('data/job.csv')\n",
    "job.head()"
   ]
  },
  {
   "cell_type": "code",
   "execution_count": 272,
   "id": "3abe36a7",
   "metadata": {},
   "outputs": [
    {
     "name": "stdout",
     "output_type": "stream",
     "text": [
      "<class 'pandas.core.frame.DataFrame'>\n",
      "RangeIndex: 2500 entries, 0 to 2499\n",
      "Data columns (total 8 columns):\n",
      " #   Column              Non-Null Count  Dtype \n",
      "---  ------              --------------  ----- \n",
      " 0   job_name            2500 non-null   object\n",
      " 1   company_name        2500 non-null   object\n",
      " 2   companytype_text    2500 non-null   object\n",
      " 3   providesalary_text  2496 non-null   object\n",
      " 4   workarea_text       2500 non-null   object\n",
      " 5   jobwelf             2083 non-null   object\n",
      " 6   updatedate          2500 non-null   object\n",
      " 7   attribute_text      2500 non-null   object\n",
      "dtypes: object(8)\n",
      "memory usage: 156.4+ KB\n"
     ]
    }
   ],
   "source": [
    "job.info()"
   ]
  },
  {
   "cell_type": "code",
   "execution_count": 273,
   "id": "7b3e4cb1",
   "metadata": {},
   "outputs": [],
   "source": [
    "# 数据清洗\n",
    "# 删除薪资为空的数据\n",
    "null_index = job[job.providesalary_text.isnull()].index"
   ]
  },
  {
   "cell_type": "code",
   "execution_count": 274,
   "id": "fbaccd3b",
   "metadata": {},
   "outputs": [],
   "source": [
    "job.drop(null_index, inplace=True)"
   ]
  },
  {
   "cell_type": "code",
   "execution_count": 275,
   "id": "5aa88ea4",
   "metadata": {},
   "outputs": [
    {
     "name": "stdout",
     "output_type": "stream",
     "text": [
      "<class 'pandas.core.frame.DataFrame'>\n",
      "Int64Index: 2496 entries, 2 to 2499\n",
      "Data columns (total 8 columns):\n",
      " #   Column              Non-Null Count  Dtype \n",
      "---  ------              --------------  ----- \n",
      " 0   job_name            2496 non-null   object\n",
      " 1   company_name        2496 non-null   object\n",
      " 2   companytype_text    2496 non-null   object\n",
      " 3   providesalary_text  2496 non-null   object\n",
      " 4   workarea_text       2496 non-null   object\n",
      " 5   jobwelf             2082 non-null   object\n",
      " 6   updatedate          2496 non-null   object\n",
      " 7   attribute_text      2496 non-null   object\n",
      "dtypes: object(8)\n",
      "memory usage: 175.5+ KB\n"
     ]
    }
   ],
   "source": [
    "job.info()"
   ]
  },
  {
   "cell_type": "code",
   "execution_count": 279,
   "id": "81f27f1e",
   "metadata": {},
   "outputs": [],
   "source": [
    "job.reset_index(inplace=True)"
   ]
  },
  {
   "cell_type": "code",
   "execution_count": 283,
   "id": "e37cd680",
   "metadata": {},
   "outputs": [
    {
     "data": {
      "text/plain": [
       "array(['1-2万/月', '6-8千/月', '3-4.5万/月', '4-8千/月', '2-3.5万/月', '1.5-2万/月',\n",
       "       '3-4千/月', '2-4万/月', '0.8-1.2万/月', '7-14万/年', '0.6-1万/月',\n",
       "       '4.5-6千/月', '0.8-1.5万/月', '5-9千/月', '2-2.5万/月', '0.7-1万/月',\n",
       "       '0.8-1万/月', '1.5-2.5万/月', '1-1.5万/月', '5-8千/月', '3-4万/月',\n",
       "       '2.3-4.5万/月', '5.5-9千/月', '0.8-1.3万/月', '3-5千/月', '4-7千/月',\n",
       "       '0.5-1万/月', '0.7-1.1万/月', '0.8-1.6万/月', '8-10万/年', '3.5-5.5万/月',\n",
       "       '6-9千/月', '0.6-1.2万/月', '1.5-3万/月', '2-3万/月', '0.7-1.2万/月',\n",
       "       '2.5-3万/月', '1-1.8万/月', '0.3-1万/月', '4-6千/月', '5-7千/月',\n",
       "       '1.1-1.3万/月', '1.3-1.8万/月', '1.2-1.8万/月', '1.2-2.3万/月', '5-6千/月',\n",
       "       '7.5-8.5千/月', '7-9千/月', '7-8千/月', '3.5-5千/月', '3-4.5千/月', '4-5千/月',\n",
       "       '0.4-1万/月', '3-6千/月', '0.5-2.5万/月', '4.5-9千/月', '15-20万/年',\n",
       "       '0.9-1.4万/月', '11-18万/年', '1.2-1.7万/月', '3.5-4.5千/月', '0.8-2万/月',\n",
       "       '0.7-1.4万/月', '1.1-2万/月', '1-3万/月', '1.1-2.2万/月', '19-27万/年',\n",
       "       '3.8-4.5千/月', '1.5-1.8万/月', '4.8-6.5千/月', '2.5-3.5万/月', '30-40万/年',\n",
       "       '4.5-7.5千/月', '1.5-1.7万/月', '4.5-8千/月', '6.5-9千/月', '1.3-2万/月',\n",
       "       '5-5.5千/月', '4.5-7千/月', '5-9.9千/月', '20-30万/年', '0.9-1.3万/月',\n",
       "       '1.5-2千/月', '12-18万/年', '1.2-1.5万/月', '0.7-1.3万/月', '3.6-4.5千/月',\n",
       "       '10-15万/年', '27-35万/年', '1.2-2万/月', '1.8-3万/月', '1.1-1.6万/月',\n",
       "       '0.8-1.1万/月', '6-7千/月', '40-50万/年', '3-6万/月', '0.5-1.5万/月',\n",
       "       '1-1.2万/月', '4-6.5千/月', '1.2-2.5万/月', '3.3-3.8千/月', '1.7-2.5万/月',\n",
       "       '1-1.6万/月', '4-4.5千/月', '0.9-1.1万/月', '0.6-1.1万/月', '5.5-7.5千/月',\n",
       "       '6-15万/年', '1.4-2万/月', '2.5-4万/月', '0.6-1.5万/月', '3.5-6千/月',\n",
       "       '40-60万/年', '1.2-2.4万/月', '2-5万/月', '1.3-1.6万/月', '1.8-2.5万/月',\n",
       "       '0.5-1.1万/月', '5.5-7千/月', '0.9-1.5万/月', '2.5-5万/月', '20-40万/年',\n",
       "       '3.9-6千/月', '3.5-8千/月', '0.9-1.2万/月', '0.8-1.4万/月', '3.5-6.5千/月',\n",
       "       '0.5-1.2万/月', '1-1.3万/月', '0.7-1.5万/月', '3-3.5千/月', '8-9千/月',\n",
       "       '3.5-4千/月', '30-50万/年', '5-6.5千/月', '3.5-9千/月', '0.9-1万/月',\n",
       "       '4.5-6.5千/月', '3.5-7千/月', '4-5.5千/月', '0.4-1.2万/月', '3-5万/月',\n",
       "       '5.5-6.5千/月', '4.7-9千/月', '1.5-4.5万/月', '0.6-2万/月', '15-25万/年',\n",
       "       '5.2-5.6千/月', '4.5-4.5千/月', '5-6万/年', '2-4千/月', '8-9.9千/月',\n",
       "       '6-7.9千/月', '4.5-5.9千/月', '3-4.4千/月', '2-3千/月', '1-1.4万/月',\n",
       "       '3-7千/月', '1.1-1.8万/月', '10-14万/年', '0.8-2.4万/月', '0.6-1.8万/月',\n",
       "       '1.4-2.8万/月', '15-30万/年', '8-12万/年', '4.5-5千/月', '1.1-1.5万/月',\n",
       "       '4.8-6.8千/月', '5-15万/年', '5.5-6千/月', '10-20万/年', '2.8-5.6千/月',\n",
       "       '3-6万/年', '0.9-1.6万/月', '6-12万/年', '2.2-2.5万/月', '5.5-8千/月',\n",
       "       '4-5万/月', '2.8-5千/月', '6-10万/年', '6-8万/年', '1.6-2.5万/月',\n",
       "       '2.5-7千/月', '0.4-2万/月', '4-8万/月', '5.5-6.8千/月', '6.5-8千/月',\n",
       "       '1.1-1.9万/月', '2.5-4.5万/月', '1.2-1.6万/月', '3.5-6万/月', '30-60万/年',\n",
       "       '1.8-3.5万/月', '6-8.5千/月', '4-9千/月', '25-50万/年', '8-24万/年',\n",
       "       '3.5-5万/月', '1-1.7万/月', '6-6.6千/月', '0.4-1.5万/月'], dtype=object)"
      ]
     },
     "execution_count": 283,
     "metadata": {},
     "output_type": "execute_result"
    }
   ],
   "source": [
    "job.providesalary_text.unique()"
   ]
  },
  {
   "cell_type": "code",
   "execution_count": 280,
   "id": "f42ecbc0",
   "metadata": {},
   "outputs": [
    {
     "data": {
      "text/plain": [
       "[880, 1902, 2047, 2052, 2251, 2371]"
      ]
     },
     "execution_count": 280,
     "metadata": {},
     "output_type": "execute_result"
    }
   ],
   "source": [
    "# 删除异常值（有几个数据薪资是以日/小时、天/每小时计算的，需要删除）\n",
    "delete_index = []\n",
    "for i, salary in enumerate(job.providesalary_text.tolist()):\n",
    "    if salary.endswith('天') or salary.endswith('小时'):\n",
    "        delete_index.append(i)\n",
    "delete_index"
   ]
  },
  {
   "cell_type": "code",
   "execution_count": 281,
   "id": "ae56b8c5",
   "metadata": {},
   "outputs": [
    {
     "data": {
      "text/html": [
       "<div>\n",
       "<style scoped>\n",
       "    .dataframe tbody tr th:only-of-type {\n",
       "        vertical-align: middle;\n",
       "    }\n",
       "\n",
       "    .dataframe tbody tr th {\n",
       "        vertical-align: top;\n",
       "    }\n",
       "\n",
       "    .dataframe thead th {\n",
       "        text-align: right;\n",
       "    }\n",
       "</style>\n",
       "<table border=\"1\" class=\"dataframe\">\n",
       "  <thead>\n",
       "    <tr style=\"text-align: right;\">\n",
       "      <th></th>\n",
       "      <th>index</th>\n",
       "      <th>job_name</th>\n",
       "      <th>company_name</th>\n",
       "      <th>companytype_text</th>\n",
       "      <th>providesalary_text</th>\n",
       "      <th>workarea_text</th>\n",
       "      <th>jobwelf</th>\n",
       "      <th>updatedate</th>\n",
       "      <th>attribute_text</th>\n",
       "    </tr>\n",
       "  </thead>\n",
       "  <tbody>\n",
       "    <tr>\n",
       "      <th>880</th>\n",
       "      <td>884</td>\n",
       "      <td>运营助理（***，实习）</td>\n",
       "      <td>上海风许网络科技有限公司</td>\n",
       "      <td>民营公司</td>\n",
       "      <td>150元/天</td>\n",
       "      <td>上海-闵行区</td>\n",
       "      <td>五险一金 交通补贴 餐饮补贴 专业培训 年终奖金 弹性工作</td>\n",
       "      <td>10-14</td>\n",
       "      <td>['上海-闵行区', '无需经验', '大专', '招2人']</td>\n",
       "    </tr>\n",
       "    <tr>\n",
       "      <th>1902</th>\n",
       "      <td>1906</td>\n",
       "      <td>客服专员（调度team）深夜班</td>\n",
       "      <td>建顺信息科技（广州）有限公司</td>\n",
       "      <td>外资（非欧美）</td>\n",
       "      <td>26元/小时</td>\n",
       "      <td>广州-天河区</td>\n",
       "      <td>弹性工作 专业培训</td>\n",
       "      <td>10-14</td>\n",
       "      <td>['广州-天河区', '无需经验', '中专', '招2人']</td>\n",
       "    </tr>\n",
       "    <tr>\n",
       "      <th>2047</th>\n",
       "      <td>2051</td>\n",
       "      <td>产品修图</td>\n",
       "      <td>成都部落窝科技有限公司</td>\n",
       "      <td>民营公司</td>\n",
       "      <td>120元/小时</td>\n",
       "      <td>成都-成华区</td>\n",
       "      <td>绩效奖金 弹性工作</td>\n",
       "      <td>10-14</td>\n",
       "      <td>['成都-成华区', '2年经验', '大专', '招2人']</td>\n",
       "    </tr>\n",
       "    <tr>\n",
       "      <th>2052</th>\n",
       "      <td>2056</td>\n",
       "      <td>电商平台上架产品</td>\n",
       "      <td>珠海市鲜茗叶茶业有限公司</td>\n",
       "      <td>创业公司</td>\n",
       "      <td>110元/天</td>\n",
       "      <td>中山-坦洲镇</td>\n",
       "      <td>NaN</td>\n",
       "      <td>10-14</td>\n",
       "      <td>['中山-坦洲镇', '无需经验', '招1人']</td>\n",
       "    </tr>\n",
       "    <tr>\n",
       "      <th>2251</th>\n",
       "      <td>2255</td>\n",
       "      <td>天猫直播客服</td>\n",
       "      <td>优盘联队（苏州）电子商务有限公司</td>\n",
       "      <td>民营公司</td>\n",
       "      <td>25元/小时</td>\n",
       "      <td>苏州-工业园区</td>\n",
       "      <td>NaN</td>\n",
       "      <td>10-14</td>\n",
       "      <td>['苏州-工业园区', '无需经验', '高中', '招5人']</td>\n",
       "    </tr>\n",
       "    <tr>\n",
       "      <th>2371</th>\n",
       "      <td>2375</td>\n",
       "      <td>售前客服</td>\n",
       "      <td>极易电商</td>\n",
       "      <td>民营公司</td>\n",
       "      <td>120元/天</td>\n",
       "      <td>苏州-吴中区</td>\n",
       "      <td>五险一金 员工旅游 绩效奖金 弹性工作 定期体检</td>\n",
       "      <td>10-14</td>\n",
       "      <td>['苏州-吴中区', '无需经验', '招40人']</td>\n",
       "    </tr>\n",
       "  </tbody>\n",
       "</table>\n",
       "</div>"
      ],
      "text/plain": [
       "      index         job_name      company_name companytype_text  \\\n",
       "880     884     运营助理（***，实习）      上海风许网络科技有限公司             民营公司   \n",
       "1902   1906  客服专员（调度team）深夜班    建顺信息科技（广州）有限公司          外资（非欧美）   \n",
       "2047   2051             产品修图       成都部落窝科技有限公司             民营公司   \n",
       "2052   2056         电商平台上架产品      珠海市鲜茗叶茶业有限公司             创业公司   \n",
       "2251   2255           天猫直播客服  优盘联队（苏州）电子商务有限公司             民营公司   \n",
       "2371   2375             售前客服              极易电商             民营公司   \n",
       "\n",
       "     providesalary_text workarea_text                        jobwelf  \\\n",
       "880              150元/天        上海-闵行区  五险一金 交通补贴 餐饮补贴 专业培训 年终奖金 弹性工作   \n",
       "1902             26元/小时        广州-天河区                      弹性工作 专业培训   \n",
       "2047            120元/小时        成都-成华区                      绩效奖金 弹性工作   \n",
       "2052             110元/天        中山-坦洲镇                            NaN   \n",
       "2251             25元/小时       苏州-工业园区                            NaN   \n",
       "2371             120元/天        苏州-吴中区       五险一金 员工旅游 绩效奖金 弹性工作 定期体检   \n",
       "\n",
       "     updatedate                    attribute_text  \n",
       "880       10-14   ['上海-闵行区', '无需经验', '大专', '招2人']  \n",
       "1902      10-14   ['广州-天河区', '无需经验', '中专', '招2人']  \n",
       "2047      10-14   ['成都-成华区', '2年经验', '大专', '招2人']  \n",
       "2052      10-14         ['中山-坦洲镇', '无需经验', '招1人']  \n",
       "2251      10-14  ['苏州-工业园区', '无需经验', '高中', '招5人']  \n",
       "2371      10-14        ['苏州-吴中区', '无需经验', '招40人']  "
      ]
     },
     "execution_count": 281,
     "metadata": {},
     "output_type": "execute_result"
    }
   ],
   "source": [
    "job.iloc[delete_index, :]"
   ]
  },
  {
   "cell_type": "code",
   "execution_count": 282,
   "id": "5b71b8b4",
   "metadata": {},
   "outputs": [],
   "source": [
    "job.drop(delete_index, inplace=True)"
   ]
  },
  {
   "cell_type": "code",
   "execution_count": 235,
   "id": "15535cc2",
   "metadata": {},
   "outputs": [
    {
     "name": "stdout",
     "output_type": "stream",
     "text": [
      "<class 'pandas.core.frame.DataFrame'>\n",
      "Int64Index: 2490 entries, 2 to 2499\n",
      "Data columns (total 8 columns):\n",
      " #   Column              Non-Null Count  Dtype \n",
      "---  ------              --------------  ----- \n",
      " 0   job_name            2490 non-null   object\n",
      " 1   company_name        2490 non-null   object\n",
      " 2   companytype_text    2490 non-null   object\n",
      " 3   providesalary_text  2490 non-null   object\n",
      " 4   workarea_text       2490 non-null   object\n",
      " 5   jobwelf             2076 non-null   object\n",
      " 6   updatedate          2490 non-null   object\n",
      " 7   attribute_text      2490 non-null   object\n",
      "dtypes: object(8)\n",
      "memory usage: 175.1+ KB\n"
     ]
    }
   ],
   "source": [
    "job.info()"
   ]
  },
  {
   "cell_type": "code",
   "execution_count": 236,
   "id": "84b3772e",
   "metadata": {},
   "outputs": [
    {
     "data": {
      "text/plain": [
       "2          ['北京-海淀区',  '1年经验',  '本科',  '招8人']\n",
       "3         ['上海-静安区',  '无需经验',  '本科',  '招若干人']\n",
       "4            ['天津',  '5-7年经验',  '大专',  '招1人']\n",
       "5             ['淄博',  '无需经验',  '大专',  '招20人']\n",
       "6       ['上海-浦东新区',  '5-7年经验',  '本科',  '招1人']\n",
       "                        ...                  \n",
       "2495     ['上海-浦东新区',  '无需经验',  '中技',  '招10人']\n",
       "2496      ['杭州-滨江区',  '无需经验',  '高中',  '招10人']\n",
       "2497     ['南京-江宁区',  '3-4年经验',  '本科',  '招2人']\n",
       "2498       ['广州-天河区',  '1年经验',  '本科',  '招3人']\n",
       "2499       ['杭州-拱墅区',  '1年经验',  '大专',  '招1人']\n",
       "Name: attribute_text, Length: 2490, dtype: object"
      ]
     },
     "execution_count": 236,
     "metadata": {},
     "output_type": "execute_result"
    }
   ],
   "source": [
    "job.attribute_text.apply(lambda x: x[1:-1].split(','))"
   ]
  },
  {
   "cell_type": "code",
   "execution_count": 237,
   "id": "c7981759",
   "metadata": {},
   "outputs": [],
   "source": [
    "job['province'] = job.workarea_text.apply(lambda x: x.split('-')[0])"
   ]
  },
  {
   "cell_type": "code",
   "execution_count": 238,
   "id": "3be5d2ec",
   "metadata": {},
   "outputs": [],
   "source": [
    "province_city = pd.read_csv('data/province_city.csv')\n",
    "province_city[' 城市'] = province_city[' 城市'].apply(lambda x: x.lstrip(' '))"
   ]
  },
  {
   "cell_type": "code",
   "execution_count": 239,
   "id": "b910cc6b",
   "metadata": {},
   "outputs": [],
   "source": [
    "province_city.rename(columns={'省份': '省份', ' 城市': '城市'}, inplace=True)"
   ]
  },
  {
   "cell_type": "code",
   "execution_count": 240,
   "id": "20d742c5",
   "metadata": {},
   "outputs": [],
   "source": [
    "province_city_dict = dict(zip(province_city['城市'].tolist(),province_city['省份'].tolist()))"
   ]
  },
  {
   "cell_type": "code",
   "execution_count": 241,
   "id": "39be89f4",
   "metadata": {},
   "outputs": [],
   "source": [
    "def replace_province(x):\n",
    "    if x.endswith('省') or x in ['北京', '上海', '重庆', '天津']:\n",
    "        return x\n",
    "    else:\n",
    "        return province_city_dict[x]"
   ]
  },
  {
   "cell_type": "code",
   "execution_count": 242,
   "id": "05fea7af",
   "metadata": {},
   "outputs": [],
   "source": [
    "job['province'] = job.province.apply(replace_province)"
   ]
  },
  {
   "cell_type": "code",
   "execution_count": 243,
   "id": "70cc9bc2",
   "metadata": {},
   "outputs": [
    {
     "data": {
      "text/html": [
       "<div>\n",
       "<style scoped>\n",
       "    .dataframe tbody tr th:only-of-type {\n",
       "        vertical-align: middle;\n",
       "    }\n",
       "\n",
       "    .dataframe tbody tr th {\n",
       "        vertical-align: top;\n",
       "    }\n",
       "\n",
       "    .dataframe thead th {\n",
       "        text-align: right;\n",
       "    }\n",
       "</style>\n",
       "<table border=\"1\" class=\"dataframe\">\n",
       "  <thead>\n",
       "    <tr style=\"text-align: right;\">\n",
       "      <th></th>\n",
       "      <th>job_name</th>\n",
       "      <th>company_name</th>\n",
       "      <th>companytype_text</th>\n",
       "      <th>providesalary_text</th>\n",
       "      <th>workarea_text</th>\n",
       "      <th>jobwelf</th>\n",
       "      <th>updatedate</th>\n",
       "      <th>attribute_text</th>\n",
       "      <th>province</th>\n",
       "    </tr>\n",
       "  </thead>\n",
       "  <tbody>\n",
       "    <tr>\n",
       "      <th>2</th>\n",
       "      <td>策略专员-账号</td>\n",
       "      <td>腾讯科技（北京）有限公司</td>\n",
       "      <td>民营公司</td>\n",
       "      <td>1-2万/月</td>\n",
       "      <td>北京-海淀区</td>\n",
       "      <td>六险一金 餐饮补贴 交通补贴 专业培训 年终奖金 班次津贴</td>\n",
       "      <td>10-14</td>\n",
       "      <td>['北京-海淀区', '1年经验', '本科', '招8人']</td>\n",
       "      <td>北京</td>\n",
       "    </tr>\n",
       "    <tr>\n",
       "      <th>3</th>\n",
       "      <td>销售助理</td>\n",
       "      <td>新浪上海</td>\n",
       "      <td>合资</td>\n",
       "      <td>6-8千/月</td>\n",
       "      <td>上海-静安区</td>\n",
       "      <td>五险一金 补充公积金 节日福利 定期体检</td>\n",
       "      <td>10-14</td>\n",
       "      <td>['上海-静安区', '无需经验', '本科', '招若干人']</td>\n",
       "      <td>上海</td>\n",
       "    </tr>\n",
       "    <tr>\n",
       "      <th>4</th>\n",
       "      <td>城市经理</td>\n",
       "      <td>美团</td>\n",
       "      <td>上市公司</td>\n",
       "      <td>3-4.5万/月</td>\n",
       "      <td>天津</td>\n",
       "      <td>NaN</td>\n",
       "      <td>10-14</td>\n",
       "      <td>['天津', '5-7年经验', '大专', '招1人']</td>\n",
       "      <td>天津</td>\n",
       "    </tr>\n",
       "    <tr>\n",
       "      <th>5</th>\n",
       "      <td>国企高薪诚聘电子商务</td>\n",
       "      <td>太平洋保险在线服务科技有限公司山东分公司</td>\n",
       "      <td>国企</td>\n",
       "      <td>4-8千/月</td>\n",
       "      <td>淄博</td>\n",
       "      <td>五险一金 交通补贴 餐饮补贴 年终奖金 绩效奖金 企业年金 商业保险 周末双休 职工餐厅 带薪培训</td>\n",
       "      <td>10-14</td>\n",
       "      <td>['淄博', '无需经验', '大专', '招20人']</td>\n",
       "      <td>山东省</td>\n",
       "    </tr>\n",
       "    <tr>\n",
       "      <th>6</th>\n",
       "      <td>市场营销经理</td>\n",
       "      <td>网易</td>\n",
       "      <td>上市公司</td>\n",
       "      <td>2-3.5万/月</td>\n",
       "      <td>上海-浦东新区</td>\n",
       "      <td>五险一金 包吃 包三餐 带薪年假 交通补贴 定期体检 商业保险 年终奖金</td>\n",
       "      <td>10-14</td>\n",
       "      <td>['上海-浦东新区', '5-7年经验', '本科', '招1人']</td>\n",
       "      <td>上海</td>\n",
       "    </tr>\n",
       "  </tbody>\n",
       "</table>\n",
       "</div>"
      ],
      "text/plain": [
       "     job_name          company_name companytype_text providesalary_text  \\\n",
       "2     策略专员-账号          腾讯科技（北京）有限公司             民营公司             1-2万/月   \n",
       "3        销售助理                  新浪上海               合资             6-8千/月   \n",
       "4        城市经理                    美团             上市公司           3-4.5万/月   \n",
       "5  国企高薪诚聘电子商务  太平洋保险在线服务科技有限公司山东分公司               国企             4-8千/月   \n",
       "6      市场营销经理                    网易             上市公司           2-3.5万/月   \n",
       "\n",
       "  workarea_text                                            jobwelf updatedate  \\\n",
       "2        北京-海淀区                      六险一金 餐饮补贴 交通补贴 专业培训 年终奖金 班次津贴      10-14   \n",
       "3        上海-静安区                               五险一金 补充公积金 节日福利 定期体检      10-14   \n",
       "4            天津                                                NaN      10-14   \n",
       "5            淄博  五险一金 交通补贴 餐饮补贴 年终奖金 绩效奖金 企业年金 商业保险 周末双休 职工餐厅 带薪培训      10-14   \n",
       "6       上海-浦东新区               五险一金 包吃 包三餐 带薪年假 交通补贴 定期体检 商业保险 年终奖金      10-14   \n",
       "\n",
       "                       attribute_text province  \n",
       "2     ['北京-海淀区', '1年经验', '本科', '招8人']       北京  \n",
       "3    ['上海-静安区', '无需经验', '本科', '招若干人']       上海  \n",
       "4       ['天津', '5-7年经验', '大专', '招1人']       天津  \n",
       "5        ['淄博', '无需经验', '大专', '招20人']      山东省  \n",
       "6  ['上海-浦东新区', '5-7年经验', '本科', '招1人']       上海  "
      ]
     },
     "execution_count": 243,
     "metadata": {},
     "output_type": "execute_result"
    }
   ],
   "source": [
    "job.head()"
   ]
  },
  {
   "cell_type": "code",
   "execution_count": 244,
   "id": "42b1ce97",
   "metadata": {},
   "outputs": [
    {
     "data": {
      "text/plain": [
       "array(['1-2万/月', '6-8千/月', '3-4.5万/月', '4-8千/月', '2-3.5万/月', '1.5-2万/月',\n",
       "       '3-4千/月', '2-4万/月', '0.8-1.2万/月', '7-14万/年', '0.6-1万/月',\n",
       "       '4.5-6千/月', '0.8-1.5万/月', '5-9千/月', '2-2.5万/月', '0.7-1万/月',\n",
       "       '0.8-1万/月', '1.5-2.5万/月', '1-1.5万/月', '5-8千/月', '3-4万/月',\n",
       "       '2.3-4.5万/月', '5.5-9千/月', '0.8-1.3万/月', '3-5千/月', '4-7千/月',\n",
       "       '0.5-1万/月', '0.7-1.1万/月', '0.8-1.6万/月', '8-10万/年', '3.5-5.5万/月',\n",
       "       '6-9千/月', '0.6-1.2万/月', '1.5-3万/月', '2-3万/月', '0.7-1.2万/月',\n",
       "       '2.5-3万/月', '1-1.8万/月', '0.3-1万/月', '4-6千/月', '5-7千/月',\n",
       "       '1.1-1.3万/月', '1.3-1.8万/月', '1.2-1.8万/月', '1.2-2.3万/月', '5-6千/月',\n",
       "       '7.5-8.5千/月', '7-9千/月', '7-8千/月', '3.5-5千/月', '3-4.5千/月', '4-5千/月',\n",
       "       '0.4-1万/月', '3-6千/月', '0.5-2.5万/月', '4.5-9千/月', '15-20万/年',\n",
       "       '0.9-1.4万/月', '11-18万/年', '1.2-1.7万/月', '3.5-4.5千/月', '0.8-2万/月',\n",
       "       '0.7-1.4万/月', '1.1-2万/月', '1-3万/月', '1.1-2.2万/月', '19-27万/年',\n",
       "       '3.8-4.5千/月', '1.5-1.8万/月', '4.8-6.5千/月', '2.5-3.5万/月', '30-40万/年',\n",
       "       '4.5-7.5千/月', '1.5-1.7万/月', '4.5-8千/月', '6.5-9千/月', '1.3-2万/月',\n",
       "       '5-5.5千/月', '4.5-7千/月', '5-9.9千/月', '20-30万/年', '0.9-1.3万/月',\n",
       "       '1.5-2千/月', '12-18万/年', '1.2-1.5万/月', '0.7-1.3万/月', '3.6-4.5千/月',\n",
       "       '10-15万/年', '27-35万/年', '1.2-2万/月', '1.8-3万/月', '1.1-1.6万/月',\n",
       "       '0.8-1.1万/月', '6-7千/月', '40-50万/年', '3-6万/月', '0.5-1.5万/月',\n",
       "       '1-1.2万/月', '4-6.5千/月', '1.2-2.5万/月', '3.3-3.8千/月', '1.7-2.5万/月',\n",
       "       '1-1.6万/月', '4-4.5千/月', '0.9-1.1万/月', '0.6-1.1万/月', '5.5-7.5千/月',\n",
       "       '6-15万/年', '1.4-2万/月', '2.5-4万/月', '0.6-1.5万/月', '3.5-6千/月',\n",
       "       '40-60万/年', '1.2-2.4万/月', '2-5万/月', '1.3-1.6万/月', '1.8-2.5万/月',\n",
       "       '0.5-1.1万/月', '5.5-7千/月', '0.9-1.5万/月', '2.5-5万/月', '20-40万/年',\n",
       "       '3.9-6千/月', '150元/天', '3.5-8千/月', '0.9-1.2万/月', '0.8-1.4万/月',\n",
       "       '3.5-6.5千/月', '0.5-1.2万/月', '1-1.3万/月', '0.7-1.5万/月', '3-3.5千/月',\n",
       "       '8-9千/月', '3.5-4千/月', '30-50万/年', '5-6.5千/月', '3.5-9千/月',\n",
       "       '0.9-1万/月', '4.5-6.5千/月', '3.5-7千/月', '4-5.5千/月', '0.4-1.2万/月',\n",
       "       '3-5万/月', '5.5-6.5千/月', '4.7-9千/月', '1.5-4.5万/月', '0.6-2万/月',\n",
       "       '15-25万/年', '5.2-5.6千/月', '4.5-4.5千/月', '5-6万/年', '2-4千/月',\n",
       "       '8-9.9千/月', '6-7.9千/月', '4.5-5.9千/月', '3-4.4千/月', '2-3千/月',\n",
       "       '1-1.4万/月', '3-7千/月', '1.1-1.8万/月', '10-14万/年', '0.8-2.4万/月',\n",
       "       '0.6-1.8万/月', '1.4-2.8万/月', '15-30万/年', '8-12万/年', '4.5-5千/月',\n",
       "       '1.1-1.5万/月', '4.8-6.8千/月', '5-15万/年', '5.5-6千/月', '10-20万/年',\n",
       "       '2.8-5.6千/月', '3-6万/年', '0.9-1.6万/月', '6-12万/年', '2.2-2.5万/月',\n",
       "       '5.5-8千/月', '4-5万/月', '2.8-5千/月', '6-10万/年', '6-8万/年',\n",
       "       '1.6-2.5万/月', '2.5-7千/月', '0.4-2万/月', '4-8万/月', '26元/小时',\n",
       "       '5.5-6.8千/月', '6.5-8千/月', '1.1-1.9万/月', '2.5-4.5万/月', '1.2-1.6万/月',\n",
       "       '3.5-6万/月', '30-60万/年', '120元/小时', '110元/天', '1.8-3.5万/月',\n",
       "       '6-8.5千/月', '4-9千/月', '25元/小时', '25-50万/年', '8-24万/年', '3.5-5万/月',\n",
       "       '1-1.7万/月', '6-6.6千/月', '120元/天', '0.4-1.5万/月'], dtype=object)"
      ]
     },
     "execution_count": 244,
     "metadata": {},
     "output_type": "execute_result"
    }
   ],
   "source": [
    "job.providesalary_text.unique()"
   ]
  },
  {
   "cell_type": "code",
   "execution_count": null,
   "id": "a37e8a4d",
   "metadata": {},
   "outputs": [],
   "source": []
  },
  {
   "cell_type": "code",
   "execution_count": null,
   "id": "f80bd131",
   "metadata": {},
   "outputs": [],
   "source": []
  }
 ],
 "metadata": {
  "kernelspec": {
   "display_name": "Python 3",
   "language": "python",
   "name": "python3"
  },
  "language_info": {
   "codemirror_mode": {
    "name": "ipython",
    "version": 3
   },
   "file_extension": ".py",
   "mimetype": "text/x-python",
   "name": "python",
   "nbconvert_exporter": "python",
   "pygments_lexer": "ipython3",
   "version": "3.8.8"
  }
 },
 "nbformat": 4,
 "nbformat_minor": 5
}
